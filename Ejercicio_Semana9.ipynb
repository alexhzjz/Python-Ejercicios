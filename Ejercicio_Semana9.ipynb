{
  "nbformat": 4,
  "nbformat_minor": 0,
  "metadata": {
    "colab": {
      "provenance": [],
      "authorship_tag": "ABX9TyPpapa+4Tdqdllzrus8zINT",
      "include_colab_link": true
    },
    "kernelspec": {
      "name": "python3",
      "display_name": "Python 3"
    },
    "language_info": {
      "name": "python"
    }
  },
  "cells": [
    {
      "cell_type": "markdown",
      "metadata": {
        "id": "view-in-github",
        "colab_type": "text"
      },
      "source": [
        "<a href=\"https://colab.research.google.com/github/alexhzjz/Python-Ejercicios/blob/main/Ejercicio_Semana9.ipynb\" target=\"_parent\"><img src=\"https://colab.research.google.com/assets/colab-badge.svg\" alt=\"Open In Colab\"/></a>"
      ]
    },
    {
      "cell_type": "markdown",
      "source": [
        "**Actividad 1**"
      ],
      "metadata": {
        "id": "BXED8vn9C0Kq"
      }
    },
    {
      "cell_type": "markdown",
      "source": [
        "1. Carga el archivo \"datos_demograficos.csv\" en un DataFrame de Pandas."
      ],
      "metadata": {
        "id": "tf4RPu21C4Ep"
      }
    },
    {
      "cell_type": "code",
      "source": [
        "import pandas as pd\n",
        "\n",
        "# Carga el archivo CSV en un DataFrame\n",
        "df = pd.read_csv('datos_demograficos.csv')"
      ],
      "metadata": {
        "id": "ALhLP-jGC69J"
      },
      "execution_count": 15,
      "outputs": []
    },
    {
      "cell_type": "markdown",
      "source": [
        "2.Muestra las primeras 5 filas del DataFrame."
      ],
      "metadata": {
        "id": "OHbO35wnDfCA"
      }
    },
    {
      "cell_type": "code",
      "execution_count": 16,
      "metadata": {
        "id": "xLJpAFtX-cOi",
        "colab": {
          "base_uri": "https://localhost:8080/"
        },
        "outputId": "ff36a6e3-4c1c-471d-8a22-2d285b1a70e0"
      },
      "outputs": [
        {
          "output_type": "stream",
          "name": "stdout",
          "text": [
            "             Nombre       País  Edad     Género  Peso  Altura\n",
            "0        Juan Pérez     España    28  Masculino    80    1.75\n",
            "1        Ana García  Argentina    35   Femenino    65    1.60\n",
            "2  Carlos Rodríguez     México    22  Masculino    75    1.80\n",
            "3       Maria López   Colombia    40   Femenino    70    1.65\n",
            "4    Pedro González     Brasil    32  Masculino    85    1.85\n"
          ]
        }
      ],
      "source": [
        "\n",
        "print(df.head())"
      ]
    },
    {
      "cell_type": "markdown",
      "source": [
        "3.Obtén la información general del DataFrame."
      ],
      "metadata": {
        "id": "b_1sn4jADsph"
      }
    },
    {
      "cell_type": "code",
      "source": [
        "print(df.info())"
      ],
      "metadata": {
        "colab": {
          "base_uri": "https://localhost:8080/"
        },
        "id": "Ha6kbiGsDu_W",
        "outputId": "89ca1c1f-a7b4-489b-8ad9-a3d5cc6d2f79"
      },
      "execution_count": 17,
      "outputs": [
        {
          "output_type": "stream",
          "name": "stdout",
          "text": [
            "<class 'pandas.core.frame.DataFrame'>\n",
            "RangeIndex: 48 entries, 0 to 47\n",
            "Data columns (total 6 columns):\n",
            " #   Column  Non-Null Count  Dtype  \n",
            "---  ------  --------------  -----  \n",
            " 0   Nombre  48 non-null     object \n",
            " 1   País    48 non-null     object \n",
            " 2   Edad    48 non-null     int64  \n",
            " 3   Género  48 non-null     object \n",
            " 4   Peso    48 non-null     int64  \n",
            " 5   Altura  48 non-null     float64\n",
            "dtypes: float64(1), int64(2), object(3)\n",
            "memory usage: 2.4+ KB\n",
            "None\n"
          ]
        }
      ]
    },
    {
      "cell_type": "markdown",
      "source": [
        "4.Calcula las estadísticas descriptivas de las columnas numéricas."
      ],
      "metadata": {
        "id": "Lnb988P3DzUy"
      }
    },
    {
      "cell_type": "code",
      "source": [
        "print(df.describe())"
      ],
      "metadata": {
        "colab": {
          "base_uri": "https://localhost:8080/"
        },
        "id": "TfuMI8TeD1SZ",
        "outputId": "46f78b60-9e61-493c-9b00-683a1a11f310"
      },
      "execution_count": 18,
      "outputs": [
        {
          "output_type": "stream",
          "name": "stdout",
          "text": [
            "            Edad       Peso     Altura\n",
            "count  48.000000  48.000000  48.000000\n",
            "mean   29.916667  71.875000   1.715000\n",
            "std     4.135129  12.594536   0.128427\n",
            "min    22.000000  55.000000   1.550000\n",
            "25%    27.000000  59.750000   1.597500\n",
            "50%    29.500000  72.500000   1.700000\n",
            "75%    32.250000  84.000000   1.840000\n",
            "max    40.000000  92.000000   1.920000\n"
          ]
        }
      ]
    },
    {
      "cell_type": "markdown",
      "source": [
        "5.Encuentra los valores únicos de la columna \"País\"."
      ],
      "metadata": {
        "id": "SjziHgtDD467"
      }
    },
    {
      "cell_type": "code",
      "source": [
        "print(df['País'].unique())"
      ],
      "metadata": {
        "colab": {
          "base_uri": "https://localhost:8080/"
        },
        "id": "f8VByZUaD783",
        "outputId": "0393073c-1cd7-43a4-cb5b-0a3934053477"
      },
      "execution_count": 19,
      "outputs": [
        {
          "output_type": "stream",
          "name": "stdout",
          "text": [
            "['España' 'Argentina' 'México' 'Colombia' 'Brasil' 'Chile' 'Perú'\n",
            " 'Venezuela' 'Ecuador' 'Uruguay' 'Bolivia' 'Paraguay'\n",
            " 'República Dominicana' 'Panamá' 'Guatemala' 'Honduras' 'Nicaragua'\n",
            " 'El Salvador' 'Costa Rica']\n"
          ]
        }
      ]
    },
    {
      "cell_type": "markdown",
      "source": [
        "6.Cuenta la cantidad de ocurrencias de cada valor en la columna \"Género\"."
      ],
      "metadata": {
        "id": "ZOePDr6tEBV0"
      }
    },
    {
      "cell_type": "code",
      "source": [
        "print(df['Género'].value_counts())"
      ],
      "metadata": {
        "colab": {
          "base_uri": "https://localhost:8080/"
        },
        "id": "2axNgptiECws",
        "outputId": "191ffa07-d3c1-4eb7-fb83-ad4b194d3853"
      },
      "execution_count": 20,
      "outputs": [
        {
          "output_type": "stream",
          "name": "stdout",
          "text": [
            "Género\n",
            "Masculino    24\n",
            "Femenino     24\n",
            "Name: count, dtype: int64\n"
          ]
        }
      ]
    },
    {
      "cell_type": "markdown",
      "source": [
        "**Actividad 2**"
      ],
      "metadata": {
        "id": "1pvOyw4WEgHU"
      }
    },
    {
      "cell_type": "markdown",
      "source": [
        "1. Carga el archivo \"ventas.csv\" en un DataFrame de Pandas."
      ],
      "metadata": {
        "id": "9pToZDo8EiUc"
      }
    },
    {
      "cell_type": "code",
      "source": [
        "import pandas as pd\n",
        "\n",
        "# Carga el archivo CSV en un DataFrame\n",
        "df = pd.read_csv('ventas.csv')"
      ],
      "metadata": {
        "id": "lKpwdQTGEjcM"
      },
      "execution_count": 21,
      "outputs": []
    },
    {
      "cell_type": "markdown",
      "source": [
        "2. Selecciona las filas con índices 5 a 10."
      ],
      "metadata": {
        "id": "drcnPoXcE1ui"
      }
    },
    {
      "cell_type": "code",
      "source": [
        "filas_seleccionadas = df.iloc[5:11]\n",
        "print(filas_seleccionadas)"
      ],
      "metadata": {
        "colab": {
          "base_uri": "https://localhost:8080/"
        },
        "id": "f27iqH6nE4yp",
        "outputId": "32f20dcd-3205-4f52-8e91-04a561794ecf"
      },
      "execution_count": 22,
      "outputs": [
        {
          "output_type": "stream",
          "name": "stdout",
          "text": [
            "         Fecha   Producto     Categoría   Precio  Cantidad\n",
            "5   2023-08-16    Monitor  Electrónicos  1200000         1\n",
            "6   2023-08-16    Teclado  Electrónicos   200000         1\n",
            "7   2023-08-16    Zapatos          Ropa   320000         2\n",
            "8   2023-08-16      Libro        Libros    60000         3\n",
            "9   2023-08-16      Silla       Mobilia   400000         1\n",
            "10  2023-08-17  Impresora  Electrónicos   800000         1\n"
          ]
        }
      ]
    },
    {
      "cell_type": "markdown",
      "source": [
        "3. Selecciona las columnas 'Producto' y 'Precio'"
      ],
      "metadata": {
        "id": "cE1iZm2vE-HP"
      }
    },
    {
      "cell_type": "code",
      "source": [
        "productos_y_precios = df[['Producto', 'Precio']]\n",
        "print(productos_y_precios)"
      ],
      "metadata": {
        "colab": {
          "base_uri": "https://localhost:8080/"
        },
        "id": "ZAfm9gkoE_79",
        "outputId": "d8056f09-9aeb-41b8-e727-91a75a96e8c5"
      },
      "execution_count": 23,
      "outputs": [
        {
          "output_type": "stream",
          "name": "stdout",
          "text": [
            "              Producto   Precio\n",
            "0               Laptop  5000000\n",
            "1                Mouse   100000\n",
            "2          Auriculares   300000\n",
            "3             Camiseta    80000\n",
            "4             Pantalón   200000\n",
            "5              Monitor  1200000\n",
            "6              Teclado   200000\n",
            "7              Zapatos   320000\n",
            "8                Libro    60000\n",
            "9                Silla   400000\n",
            "10           Impresora   800000\n",
            "11            Teléfono  2000000\n",
            "12             Vestido   160000\n",
            "13               Bolso   120000\n",
            "14                Mesa  1000000\n",
            "15              Tablet  1400000\n",
            "16          Disco duro   400000\n",
            "17              Camisa    60000\n",
            "18   Pantalones cortos   120000\n",
            "19             Lámpara   200000\n",
            "20         Memoria RAM   320000\n",
            "21            Cargador    80000\n",
            "22               Falda   140000\n",
            "23               Reloj   280000\n",
            "24              Sillón   600000\n",
            "25           Audifonos   200000\n",
            "26     Batería externa   120000\n",
            "27               Blusa   100000\n",
            "28             Corbata    60000\n",
            "29          Escritorio  1200000\n",
            "30              Router   400000\n",
            "31              Webcam   200000\n",
            "32  Pantalones de yoga   160000\n",
            "33              Anillo    80000\n",
            "34                Cama  1600000\n",
            "35   Tarjeta de sonido   280000\n",
            "36   Ratón inalámbrico   140000\n",
            "37            Chaqueta   280000\n",
            "38              Collar    60000\n",
            "39          Estantería   320000\n",
            "40       Disco externo   480000\n",
            "41              Suéter   180000\n",
            "42             Pulsera    40000\n",
            "43             Armario   800000\n",
            "44          Cable HDMI    60000\n",
            "45              Jersey   120000\n",
            "46          Pendientes    48000\n",
            "47              Cómoda   600000\n"
          ]
        }
      ]
    },
    {
      "cell_type": "markdown",
      "source": [
        "4. Filtra las filas donde el 'Precio' es mayor que 100."
      ],
      "metadata": {
        "id": "8K4ULFreFDha"
      }
    },
    {
      "cell_type": "code",
      "source": [
        "precios_altos = df[df['Precio'] > 100]\n",
        "print(precios_altos)\n"
      ],
      "metadata": {
        "colab": {
          "base_uri": "https://localhost:8080/"
        },
        "id": "sD1x-XuwFFi6",
        "outputId": "1b224144-bcc1-42da-cedb-feafe4ad410b"
      },
      "execution_count": 24,
      "outputs": [
        {
          "output_type": "stream",
          "name": "stdout",
          "text": [
            "         Fecha            Producto     Categoría   Precio  Cantidad\n",
            "0   2023-08-15              Laptop  Electrónicos  5000000         1\n",
            "1   2023-08-15               Mouse  Electrónicos   100000         2\n",
            "2   2023-08-15         Auriculares  Electrónicos   300000         3\n",
            "3   2023-08-15            Camiseta          Ropa    80000         5\n",
            "4   2023-08-15            Pantalón          Ropa   200000         2\n",
            "5   2023-08-16             Monitor  Electrónicos  1200000         1\n",
            "6   2023-08-16             Teclado  Electrónicos   200000         1\n",
            "7   2023-08-16             Zapatos          Ropa   320000         2\n",
            "8   2023-08-16               Libro        Libros    60000         3\n",
            "9   2023-08-16               Silla       Mobilia   400000         1\n",
            "10  2023-08-17           Impresora  Electrónicos   800000         1\n",
            "11  2023-08-17            Teléfono  Electrónicos  2000000         1\n",
            "12  2023-08-17             Vestido          Ropa   160000         2\n",
            "13  2023-08-17               Bolso    Accesorios   120000         1\n",
            "14  2023-08-17                Mesa       Mobilia  1000000         1\n",
            "15  2023-08-18              Tablet  Electrónicos  1400000         1\n",
            "16  2023-08-18          Disco duro  Electrónicos   400000         2\n",
            "17  2023-08-18              Camisa          Ropa    60000         3\n",
            "18  2023-08-18   Pantalones cortos          Ropa   120000         1\n",
            "19  2023-08-18             Lámpara   Iluminación   200000         2\n",
            "20  2023-08-19         Memoria RAM  Electrónicos   320000         2\n",
            "21  2023-08-19            Cargador  Electrónicos    80000         1\n",
            "22  2023-08-19               Falda          Ropa   140000         2\n",
            "23  2023-08-19               Reloj    Accesorios   280000         1\n",
            "24  2023-08-19              Sillón       Mobilia   600000         1\n",
            "25  2023-08-20           Audifonos  Electrónicos   200000         2\n",
            "26  2023-08-20     Batería externa  Electrónicos   120000         3\n",
            "27  2023-08-20               Blusa          Ropa   100000         4\n",
            "28  2023-08-20             Corbata    Accesorios    60000         1\n",
            "29  2023-08-20          Escritorio       Mobilia  1200000         1\n",
            "30  2023-08-21              Router  Electrónicos   400000         1\n",
            "31  2023-08-21              Webcam  Electrónicos   200000         2\n",
            "32  2023-08-21  Pantalones de yoga          Ropa   160000         2\n",
            "33  2023-08-21              Anillo    Accesorios    80000         1\n",
            "34  2023-08-21                Cama       Mobilia  1600000         1\n",
            "35  2023-08-22   Tarjeta de sonido  Electrónicos   280000         1\n",
            "36  2023-08-22   Ratón inalámbrico  Electrónicos   140000         2\n",
            "37  2023-08-22            Chaqueta          Ropa   280000         1\n",
            "38  2023-08-22              Collar    Accesorios    60000         2\n",
            "39  2023-08-22          Estantería       Mobilia   320000         1\n",
            "40  2023-08-23       Disco externo  Electrónicos   480000         1\n",
            "41  2023-08-23              Suéter          Ropa   180000         2\n",
            "42  2023-08-23             Pulsera    Accesorios    40000         3\n",
            "43  2023-08-23             Armario       Mobilia   800000         1\n",
            "44  2023-08-24          Cable HDMI  Electrónicos    60000         2\n",
            "45  2023-08-24              Jersey          Ropa   120000         1\n",
            "46  2023-08-24          Pendientes    Accesorios    48000         2\n",
            "47  2023-08-24              Cómoda       Mobilia   600000         1\n"
          ]
        }
      ]
    },
    {
      "cell_type": "markdown",
      "source": [
        "5. Crea una nueva columna llamada 'Descuento' con un 10% del 'Precio'."
      ],
      "metadata": {
        "id": "v0AXc8tyFIOK"
      }
    },
    {
      "cell_type": "code",
      "source": [
        "df['Descuento'] = df['Precio'] * 0.1\n",
        "print(df)"
      ],
      "metadata": {
        "colab": {
          "base_uri": "https://localhost:8080/"
        },
        "id": "g3xR0YuEFLvk",
        "outputId": "ca4ed123-bc57-42f6-ad2e-f8ebf593f331"
      },
      "execution_count": 25,
      "outputs": [
        {
          "output_type": "stream",
          "name": "stdout",
          "text": [
            "         Fecha            Producto     Categoría   Precio  Cantidad  Descuento\n",
            "0   2023-08-15              Laptop  Electrónicos  5000000         1   500000.0\n",
            "1   2023-08-15               Mouse  Electrónicos   100000         2    10000.0\n",
            "2   2023-08-15         Auriculares  Electrónicos   300000         3    30000.0\n",
            "3   2023-08-15            Camiseta          Ropa    80000         5     8000.0\n",
            "4   2023-08-15            Pantalón          Ropa   200000         2    20000.0\n",
            "5   2023-08-16             Monitor  Electrónicos  1200000         1   120000.0\n",
            "6   2023-08-16             Teclado  Electrónicos   200000         1    20000.0\n",
            "7   2023-08-16             Zapatos          Ropa   320000         2    32000.0\n",
            "8   2023-08-16               Libro        Libros    60000         3     6000.0\n",
            "9   2023-08-16               Silla       Mobilia   400000         1    40000.0\n",
            "10  2023-08-17           Impresora  Electrónicos   800000         1    80000.0\n",
            "11  2023-08-17            Teléfono  Electrónicos  2000000         1   200000.0\n",
            "12  2023-08-17             Vestido          Ropa   160000         2    16000.0\n",
            "13  2023-08-17               Bolso    Accesorios   120000         1    12000.0\n",
            "14  2023-08-17                Mesa       Mobilia  1000000         1   100000.0\n",
            "15  2023-08-18              Tablet  Electrónicos  1400000         1   140000.0\n",
            "16  2023-08-18          Disco duro  Electrónicos   400000         2    40000.0\n",
            "17  2023-08-18              Camisa          Ropa    60000         3     6000.0\n",
            "18  2023-08-18   Pantalones cortos          Ropa   120000         1    12000.0\n",
            "19  2023-08-18             Lámpara   Iluminación   200000         2    20000.0\n",
            "20  2023-08-19         Memoria RAM  Electrónicos   320000         2    32000.0\n",
            "21  2023-08-19            Cargador  Electrónicos    80000         1     8000.0\n",
            "22  2023-08-19               Falda          Ropa   140000         2    14000.0\n",
            "23  2023-08-19               Reloj    Accesorios   280000         1    28000.0\n",
            "24  2023-08-19              Sillón       Mobilia   600000         1    60000.0\n",
            "25  2023-08-20           Audifonos  Electrónicos   200000         2    20000.0\n",
            "26  2023-08-20     Batería externa  Electrónicos   120000         3    12000.0\n",
            "27  2023-08-20               Blusa          Ropa   100000         4    10000.0\n",
            "28  2023-08-20             Corbata    Accesorios    60000         1     6000.0\n",
            "29  2023-08-20          Escritorio       Mobilia  1200000         1   120000.0\n",
            "30  2023-08-21              Router  Electrónicos   400000         1    40000.0\n",
            "31  2023-08-21              Webcam  Electrónicos   200000         2    20000.0\n",
            "32  2023-08-21  Pantalones de yoga          Ropa   160000         2    16000.0\n",
            "33  2023-08-21              Anillo    Accesorios    80000         1     8000.0\n",
            "34  2023-08-21                Cama       Mobilia  1600000         1   160000.0\n",
            "35  2023-08-22   Tarjeta de sonido  Electrónicos   280000         1    28000.0\n",
            "36  2023-08-22   Ratón inalámbrico  Electrónicos   140000         2    14000.0\n",
            "37  2023-08-22            Chaqueta          Ropa   280000         1    28000.0\n",
            "38  2023-08-22              Collar    Accesorios    60000         2     6000.0\n",
            "39  2023-08-22          Estantería       Mobilia   320000         1    32000.0\n",
            "40  2023-08-23       Disco externo  Electrónicos   480000         1    48000.0\n",
            "41  2023-08-23              Suéter          Ropa   180000         2    18000.0\n",
            "42  2023-08-23             Pulsera    Accesorios    40000         3     4000.0\n",
            "43  2023-08-23             Armario       Mobilia   800000         1    80000.0\n",
            "44  2023-08-24          Cable HDMI  Electrónicos    60000         2     6000.0\n",
            "45  2023-08-24              Jersey          Ropa   120000         1    12000.0\n",
            "46  2023-08-24          Pendientes    Accesorios    48000         2     4800.0\n",
            "47  2023-08-24              Cómoda       Mobilia   600000         1    60000.0\n"
          ]
        }
      ]
    },
    {
      "cell_type": "markdown",
      "source": [
        "6. Elimina la columna 'Descuento' del DataFrame."
      ],
      "metadata": {
        "id": "5F8ZudPyFPwJ"
      }
    },
    {
      "cell_type": "code",
      "source": [
        "df.drop('Descuento', axis=1, inplace=True)\n",
        "print(df)"
      ],
      "metadata": {
        "colab": {
          "base_uri": "https://localhost:8080/"
        },
        "id": "oj9_ewJtFRKR",
        "outputId": "c3584607-e668-4eee-8025-76f29f16a6fc"
      },
      "execution_count": 26,
      "outputs": [
        {
          "output_type": "stream",
          "name": "stdout",
          "text": [
            "         Fecha            Producto     Categoría   Precio  Cantidad\n",
            "0   2023-08-15              Laptop  Electrónicos  5000000         1\n",
            "1   2023-08-15               Mouse  Electrónicos   100000         2\n",
            "2   2023-08-15         Auriculares  Electrónicos   300000         3\n",
            "3   2023-08-15            Camiseta          Ropa    80000         5\n",
            "4   2023-08-15            Pantalón          Ropa   200000         2\n",
            "5   2023-08-16             Monitor  Electrónicos  1200000         1\n",
            "6   2023-08-16             Teclado  Electrónicos   200000         1\n",
            "7   2023-08-16             Zapatos          Ropa   320000         2\n",
            "8   2023-08-16               Libro        Libros    60000         3\n",
            "9   2023-08-16               Silla       Mobilia   400000         1\n",
            "10  2023-08-17           Impresora  Electrónicos   800000         1\n",
            "11  2023-08-17            Teléfono  Electrónicos  2000000         1\n",
            "12  2023-08-17             Vestido          Ropa   160000         2\n",
            "13  2023-08-17               Bolso    Accesorios   120000         1\n",
            "14  2023-08-17                Mesa       Mobilia  1000000         1\n",
            "15  2023-08-18              Tablet  Electrónicos  1400000         1\n",
            "16  2023-08-18          Disco duro  Electrónicos   400000         2\n",
            "17  2023-08-18              Camisa          Ropa    60000         3\n",
            "18  2023-08-18   Pantalones cortos          Ropa   120000         1\n",
            "19  2023-08-18             Lámpara   Iluminación   200000         2\n",
            "20  2023-08-19         Memoria RAM  Electrónicos   320000         2\n",
            "21  2023-08-19            Cargador  Electrónicos    80000         1\n",
            "22  2023-08-19               Falda          Ropa   140000         2\n",
            "23  2023-08-19               Reloj    Accesorios   280000         1\n",
            "24  2023-08-19              Sillón       Mobilia   600000         1\n",
            "25  2023-08-20           Audifonos  Electrónicos   200000         2\n",
            "26  2023-08-20     Batería externa  Electrónicos   120000         3\n",
            "27  2023-08-20               Blusa          Ropa   100000         4\n",
            "28  2023-08-20             Corbata    Accesorios    60000         1\n",
            "29  2023-08-20          Escritorio       Mobilia  1200000         1\n",
            "30  2023-08-21              Router  Electrónicos   400000         1\n",
            "31  2023-08-21              Webcam  Electrónicos   200000         2\n",
            "32  2023-08-21  Pantalones de yoga          Ropa   160000         2\n",
            "33  2023-08-21              Anillo    Accesorios    80000         1\n",
            "34  2023-08-21                Cama       Mobilia  1600000         1\n",
            "35  2023-08-22   Tarjeta de sonido  Electrónicos   280000         1\n",
            "36  2023-08-22   Ratón inalámbrico  Electrónicos   140000         2\n",
            "37  2023-08-22            Chaqueta          Ropa   280000         1\n",
            "38  2023-08-22              Collar    Accesorios    60000         2\n",
            "39  2023-08-22          Estantería       Mobilia   320000         1\n",
            "40  2023-08-23       Disco externo  Electrónicos   480000         1\n",
            "41  2023-08-23              Suéter          Ropa   180000         2\n",
            "42  2023-08-23             Pulsera    Accesorios    40000         3\n",
            "43  2023-08-23             Armario       Mobilia   800000         1\n",
            "44  2023-08-24          Cable HDMI  Electrónicos    60000         2\n",
            "45  2023-08-24              Jersey          Ropa   120000         1\n",
            "46  2023-08-24          Pendientes    Accesorios    48000         2\n",
            "47  2023-08-24              Cómoda       Mobilia   600000         1\n"
          ]
        }
      ]
    },
    {
      "cell_type": "markdown",
      "source": [
        "**Exploración y Filtrado de Datos en el Archivo 'educacion.csv'**\n",
        "\n",
        "**Actividad 3**"
      ],
      "metadata": {
        "id": "VA6MiGvd-gow"
      }
    },
    {
      "cell_type": "markdown",
      "source": [
        "**Paso 1**: mportación de las bibliotecas y carga de datos:"
      ],
      "metadata": {
        "id": "DV67juiq-_gh"
      }
    },
    {
      "cell_type": "code",
      "source": [
        "import pandas as pd\n",
        "\n",
        "# Carga el archivo CSV en un DataFrame\n",
        "df = pd.read_csv('educacion.csv')"
      ],
      "metadata": {
        "id": "VJcjEnAF-m1o"
      },
      "execution_count": 1,
      "outputs": []
    },
    {
      "cell_type": "markdown",
      "source": [
        "**Paso 2**: Inspección básica:"
      ],
      "metadata": {
        "id": "XjzJLOkd_BII"
      }
    },
    {
      "cell_type": "markdown",
      "source": [
        "Muestra las primeras 5 filas:"
      ],
      "metadata": {
        "id": "7_dlloluBHa6"
      }
    },
    {
      "cell_type": "code",
      "source": [
        "print(df.head())"
      ],
      "metadata": {
        "colab": {
          "base_uri": "https://localhost:8080/"
        },
        "id": "vwUXVIiwBh5Z",
        "outputId": "6d1338b2-370c-4cea-b2f5-e8e67eaf1cd5"
      },
      "execution_count": 2,
      "outputs": [
        {
          "output_type": "stream",
          "name": "stdout",
          "text": [
            "             Nombre       País  Edad Nivel_Educativo  \\\n",
            "0        Juan Pérez     España    28   Universitario   \n",
            "1        Ana García  Argentina    35        Posgrado   \n",
            "2  Carlos Rodríguez     México    22   Universitario   \n",
            "3       Maria López   Colombia    40   Universitario   \n",
            "4    Pedro González     Brasil    32   Universitario   \n",
            "\n",
            "                                  Carrera  \\\n",
            "0                  Ingeniería Informática   \n",
            "1  Maestría en Administración de Empresas   \n",
            "2                                Medicina   \n",
            "3                              Psicología   \n",
            "4                                 Derecho   \n",
            "\n",
            "                               Institución  \n",
            "0        Universidad Complutense de Madrid  \n",
            "1              Universidad de Buenos Aires  \n",
            "2  Universidad Nacional Autónoma de México  \n",
            "3                 Universidad de los Andes  \n",
            "4                 Universidad de São Paulo  \n"
          ]
        }
      ]
    },
    {
      "cell_type": "markdown",
      "source": [
        "Muestra la información general del DataFrame:\n",
        "\n",
        "\n",
        "\n"
      ],
      "metadata": {
        "id": "mvKGwUFVBKGR"
      }
    },
    {
      "cell_type": "code",
      "source": [
        "print(df.info())"
      ],
      "metadata": {
        "colab": {
          "base_uri": "https://localhost:8080/"
        },
        "id": "ij8IUDfJBrOA",
        "outputId": "a14f5052-dd22-489e-8bbb-0c688d6d8bea"
      },
      "execution_count": 3,
      "outputs": [
        {
          "output_type": "stream",
          "name": "stdout",
          "text": [
            "<class 'pandas.core.frame.DataFrame'>\n",
            "RangeIndex: 48 entries, 0 to 47\n",
            "Data columns (total 6 columns):\n",
            " #   Column           Non-Null Count  Dtype \n",
            "---  ------           --------------  ----- \n",
            " 0   Nombre           48 non-null     object\n",
            " 1   País             48 non-null     object\n",
            " 2   Edad             48 non-null     int64 \n",
            " 3   Nivel_Educativo  48 non-null     object\n",
            " 4   Carrera          48 non-null     object\n",
            " 5   Institución      48 non-null     object\n",
            "dtypes: int64(1), object(5)\n",
            "memory usage: 2.4+ KB\n",
            "None\n"
          ]
        }
      ]
    },
    {
      "cell_type": "markdown",
      "source": [
        "Muestra las estadísticas descriptivas de las columnas numéricas:"
      ],
      "metadata": {
        "id": "8iZFY6UNBoZY"
      }
    },
    {
      "cell_type": "code",
      "source": [
        "print(df.describe())"
      ],
      "metadata": {
        "colab": {
          "base_uri": "https://localhost:8080/"
        },
        "id": "9d0qaXYGBw-a",
        "outputId": "6674e180-86c8-42be-af87-663991cc109b"
      },
      "execution_count": 4,
      "outputs": [
        {
          "output_type": "stream",
          "name": "stdout",
          "text": [
            "            Edad\n",
            "count  48.000000\n",
            "mean   29.916667\n",
            "std     4.135129\n",
            "min    22.000000\n",
            "25%    27.000000\n",
            "50%    29.500000\n",
            "75%    32.250000\n",
            "max    40.000000\n"
          ]
        }
      ]
    },
    {
      "cell_type": "markdown",
      "source": [
        "**Paso 3**: Exploración de datos:"
      ],
      "metadata": {
        "id": "RRPLDmtMB07i"
      }
    },
    {
      "cell_type": "markdown",
      "source": [
        "¿Cuáles son los niveles educativos más comunes?"
      ],
      "metadata": {
        "id": "J1YX8RbWB2lJ"
      }
    },
    {
      "cell_type": "code",
      "source": [
        "print(df['Nivel_Educativo'].value_counts())"
      ],
      "metadata": {
        "colab": {
          "base_uri": "https://localhost:8080/"
        },
        "id": "yI-9u8N1B4tK",
        "outputId": "db6a91f8-9884-40db-bcf5-c3fce3db01cf"
      },
      "execution_count": 5,
      "outputs": [
        {
          "output_type": "stream",
          "name": "stdout",
          "text": [
            "Nivel_Educativo\n",
            "Universitario    44\n",
            "Posgrado          4\n",
            "Name: count, dtype: int64\n"
          ]
        }
      ]
    },
    {
      "cell_type": "markdown",
      "source": [
        "¿Cuál es la carrera más popular?"
      ],
      "metadata": {
        "id": "lVsCwzGSB6f4"
      }
    },
    {
      "cell_type": "code",
      "source": [
        "print(df['Carrera'].value_counts().idxmax())"
      ],
      "metadata": {
        "colab": {
          "base_uri": "https://localhost:8080/"
        },
        "id": "XnRx0Ti4B8jR",
        "outputId": "887555e0-31e2-4637-88e9-364a3a159183"
      },
      "execution_count": 6,
      "outputs": [
        {
          "output_type": "stream",
          "name": "stdout",
          "text": [
            "Derecho\n"
          ]
        }
      ]
    },
    {
      "cell_type": "markdown",
      "source": [
        "¿Cuál es la institución con más estudiantes?"
      ],
      "metadata": {
        "id": "Qu0BcGfNB_mJ"
      }
    },
    {
      "cell_type": "code",
      "source": [
        "print(df['Institución'].value_counts().idxmax())"
      ],
      "metadata": {
        "colab": {
          "base_uri": "https://localhost:8080/"
        },
        "id": "TMfTyNKYCBjD",
        "outputId": "7764a2c3-67a8-4a77-fdf5-390e98ac9f0b"
      },
      "execution_count": 7,
      "outputs": [
        {
          "output_type": "stream",
          "name": "stdout",
          "text": [
            "Universidad Nacional Autónoma de Nicaragua\n"
          ]
        }
      ]
    },
    {
      "cell_type": "markdown",
      "source": [
        "**Paso 4**: Filtrado de datos:"
      ],
      "metadata": {
        "id": "1ghq1pcNCEvy"
      }
    },
    {
      "cell_type": "markdown",
      "source": [
        "Filtra los estudiantes que tienen un posgrado:"
      ],
      "metadata": {
        "id": "vj1dMjYrCGdp"
      }
    },
    {
      "cell_type": "code",
      "source": [
        "df_posgrado = df[df['Nivel_Educativo'] == 'Posgrado']\n",
        "print(df_posgrado)"
      ],
      "metadata": {
        "colab": {
          "base_uri": "https://localhost:8080/"
        },
        "id": "MtMpDoDgCIQa",
        "outputId": "ea3dced9-d05c-4e10-eddd-8dcd3a08a621"
      },
      "execution_count": 8,
      "outputs": [
        {
          "output_type": "stream",
          "name": "stdout",
          "text": [
            "             Nombre       País  Edad Nivel_Educativo  \\\n",
            "1        Ana García  Argentina    35        Posgrado   \n",
            "16  Alberto Jimenez  Nicaragua    39        Posgrado   \n",
            "22   Sergio Jimenez  Nicaragua    35        Posgrado   \n",
            "38     José Jimenez  Nicaragua    35        Posgrado   \n",
            "\n",
            "                                   Carrera  \\\n",
            "1   Maestría en Administración de Empresas   \n",
            "16                 Doctorado en Ingeniería   \n",
            "22                     Maestría en Derecho   \n",
            "38                   Doctorado en Economía   \n",
            "\n",
            "                                   Institución  \n",
            "1                  Universidad de Buenos Aires  \n",
            "16          Universidad Nacional de Ingeniería  \n",
            "22  Universidad Nacional Autónoma de Nicaragua  \n",
            "38  Universidad Nacional Autónoma de Nicaragua  \n"
          ]
        }
      ]
    },
    {
      "cell_type": "markdown",
      "source": [
        "Filtra los estudiantes de Ingeniería Informática de la Universidad Complutense de Madrid:"
      ],
      "metadata": {
        "id": "qhXjhP0SCKYJ"
      }
    },
    {
      "cell_type": "code",
      "source": [
        "df_ingenieria_madrid = df[(df['Carrera'] == 'Ingeniería Informática') & (df['Institución'] == 'Universidad Complutense de Madrid')]\n",
        "print(df_ingenieria_madrid)"
      ],
      "metadata": {
        "colab": {
          "base_uri": "https://localhost:8080/"
        },
        "id": "bYcbOHTQCMDx",
        "outputId": "8f24aa37-eac0-4d72-d453-23c98edd8445"
      },
      "execution_count": 9,
      "outputs": [
        {
          "output_type": "stream",
          "name": "stdout",
          "text": [
            "       Nombre    País  Edad Nivel_Educativo                 Carrera  \\\n",
            "0  Juan Pérez  España    28   Universitario  Ingeniería Informática   \n",
            "\n",
            "                         Institución  \n",
            "0  Universidad Complutense de Madrid  \n"
          ]
        }
      ]
    },
    {
      "cell_type": "markdown",
      "source": [
        "Filtra los estudiantes de Honduras que tienen un nivel educativo universitario:"
      ],
      "metadata": {
        "id": "M9_iMtngCPUB"
      }
    },
    {
      "cell_type": "code",
      "source": [
        "df_honduras_universitario = df[(df['País'] == 'Honduras') & (df['Nivel_Educativo'] == 'Universitario')]\n",
        "print(df_honduras_universitario)"
      ],
      "metadata": {
        "colab": {
          "base_uri": "https://localhost:8080/"
        },
        "id": "Cs5WOETKCPu0",
        "outputId": "7e5201f4-21e0-4f3f-e265-a50d90957e16"
      },
      "execution_count": 10,
      "outputs": [
        {
          "output_type": "stream",
          "name": "stdout",
          "text": [
            "                Nombre      País  Edad Nivel_Educativo     Carrera  \\\n",
            "15  Patricia Rodriguez  Honduras    23   Universitario  Enfermería   \n",
            "21      Gabriela Lopez  Honduras    26   Universitario   Nutrición   \n",
            "27       Ana Hernandez  Honduras    24   Universitario  Psicología   \n",
            "37     Elena Hernandez  Honduras    27   Universitario  Enfermería   \n",
            "\n",
            "                                  Institución  \n",
            "15  Universidad Nacional Autónoma de Honduras  \n",
            "21  Universidad Nacional Autónoma de Honduras  \n",
            "27  Universidad Nacional Autónoma de Honduras  \n",
            "37  Universidad Nacional Autónoma de Honduras  \n"
          ]
        }
      ]
    },
    {
      "cell_type": "markdown",
      "source": [
        "**Paso 5**: Análisis adicional:"
      ],
      "metadata": {
        "id": "IMmrMzgzCUKR"
      }
    },
    {
      "cell_type": "markdown",
      "source": [
        "Crea una tabla de frecuencia que muestre la cantidad de estudiantes por país y nivel educativo.\n",
        "\n"
      ],
      "metadata": {
        "id": "KtouIts8CVOi"
      }
    },
    {
      "cell_type": "code",
      "source": [
        "print(pd.crosstab(df['País'], df['Nivel_Educativo']))"
      ],
      "metadata": {
        "colab": {
          "base_uri": "https://localhost:8080/"
        },
        "id": "WnXPcLFhCY7Z",
        "outputId": "5e9d6b36-9838-4b0b-c345-2faa19677e8c"
      },
      "execution_count": 11,
      "outputs": [
        {
          "output_type": "stream",
          "name": "stdout",
          "text": [
            "Nivel_Educativo       Posgrado  Universitario\n",
            "País                                         \n",
            "Argentina                    1              0\n",
            "Bolivia                      0              1\n",
            "Brasil                       0              1\n",
            "Chile                        0              1\n",
            "Colombia                     0              1\n",
            "Costa Rica                   0              7\n",
            "Ecuador                      0              1\n",
            "El Salvador                  0              7\n",
            "España                       0              1\n",
            "Guatemala                    0              4\n",
            "Honduras                     0              4\n",
            "México                       0              1\n",
            "Nicaragua                    3              5\n",
            "Panamá                       0              5\n",
            "Paraguay                     0              1\n",
            "Perú                         0              1\n",
            "República Dominicana         0              1\n",
            "Uruguay                      0              1\n",
            "Venezuela                    0              1\n"
          ]
        }
      ]
    },
    {
      "cell_type": "markdown",
      "source": [
        "Calcula la edad promedio de los estudiantes por nivel educativo."
      ],
      "metadata": {
        "id": "pDU7HZHwCa7L"
      }
    },
    {
      "cell_type": "code",
      "source": [
        "print(df.groupby('Nivel_Educativo')['Edad'].mean())"
      ],
      "metadata": {
        "colab": {
          "base_uri": "https://localhost:8080/"
        },
        "id": "bjh3h0OXCcTu",
        "outputId": "2f6b6835-e6cc-4e39-b74e-6571cc27f62e"
      },
      "execution_count": 12,
      "outputs": [
        {
          "output_type": "stream",
          "name": "stdout",
          "text": [
            "Nivel_Educativo\n",
            "Posgrado         36.000000\n",
            "Universitario    29.363636\n",
            "Name: Edad, dtype: float64\n"
          ]
        }
      ]
    },
    {
      "cell_type": "markdown",
      "source": [
        "**Paso 6**: Guardar los resultados:"
      ],
      "metadata": {
        "id": "xLnv4ya1CfES"
      }
    },
    {
      "cell_type": "code",
      "source": [
        "df_posgrado.to_csv('posgrado.csv', index=False)"
      ],
      "metadata": {
        "id": "i3zrTVRuCf_h"
      },
      "execution_count": 13,
      "outputs": []
    }
  ]
}