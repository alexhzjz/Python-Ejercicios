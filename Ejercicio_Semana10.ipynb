{
  "nbformat": 4,
  "nbformat_minor": 0,
  "metadata": {
    "colab": {
      "provenance": [],
      "authorship_tag": "ABX9TyOl/EbMqAOuhc41CriSkPfu",
      "include_colab_link": true
    },
    "kernelspec": {
      "name": "python3",
      "display_name": "Python 3"
    },
    "language_info": {
      "name": "python"
    }
  },
  "cells": [
    {
      "cell_type": "markdown",
      "metadata": {
        "id": "view-in-github",
        "colab_type": "text"
      },
      "source": [
        "<a href=\"https://colab.research.google.com/github/alexhzjz/Python-Ejercicios/blob/main/Ejercicio_Semana10.ipynb\" target=\"_parent\"><img src=\"https://colab.research.google.com/assets/colab-badge.svg\" alt=\"Open In Colab\"/></a>"
      ]
    },
    {
      "cell_type": "markdown",
      "source": [
        "**Actividad SEMANA 10: Agrupando y Resumiendo Datos sobre Estudiantes**\n",
        "\n",
        "**Objetivo:** Practicar la agrupación y el resumen de datos en Pandas utilizando un DataFrame de estudiantes."
      ],
      "metadata": {
        "id": "HR2XWOre3ZfU"
      }
    },
    {
      "cell_type": "code",
      "source": [
        "import pandas as pd\n",
        "\n",
        "# 1. Crear un DataFrame\n",
        "data = {'Nombre': ['Ana', 'Juan', 'Pedro', 'Sofía', 'Carlos', 'María', 'Luis'],\n",
        "        'Edad': [18, 19, 18, 17, 20, 18, 19],\n",
        "        'Género': ['Mujer', 'Hombre', 'Hombre', 'Mujer', 'Hombre', 'Mujer', 'Hombre'],\n",
        "        'Calificación': [8.5, 7.0, 9.2, 9.8, 6.5, 8.0, 7.8]}\n",
        "df = pd.DataFrame(data)\n",
        "\n",
        "# 2. Agrupación por Género\n",
        "df_grouped = df.groupby('Género')\n",
        "\n",
        "# 3. Resumen de Edad y Calificaciones\n",
        "resumen = df_grouped.agg({'Edad': ['mean'], 'Calificación': ['mean', 'max']})\n",
        "resumen.columns = ['Edad Promedio', 'Calificación Promedio', 'Calificación Máxima']\n",
        "\n",
        "# 4. Tabla de Resumen\n",
        "print(resumen)"
      ],
      "metadata": {
        "colab": {
          "base_uri": "https://localhost:8080/"
        },
        "id": "gOt9m54I4ioX",
        "outputId": "39fce24d-bd44-490a-dbdf-2013bea56b4a"
      },
      "execution_count": 1,
      "outputs": [
        {
          "output_type": "stream",
          "name": "stdout",
          "text": [
            "        Edad Promedio  Calificación Promedio  Calificación Máxima\n",
            "Género                                                           \n",
            "Hombre      19.000000               7.625000                  9.2\n",
            "Mujer       17.666667               8.766667                  9.8\n"
          ]
        }
      ]
    },
    {
      "cell_type": "markdown",
      "source": [
        "Preguntas adicionales:\n",
        "\n",
        "\n",
        "\n",
        "*   ¿Cómo puedes calcular la cantidad de estudiantes por género?\n",
        "*   ¿Cómo puedes ordenar la tabla de resumen por la calificación promedio de forma descendente?\n",
        "*   ¿Cómo puedes agregar una nueva columna al DataFrame con la categoría de edad (por ejemplo, \"Joven\" para estudiantes menores de 19 años y \"Adulto\" para estudiantes mayores o iguales a 19 años)?\n",
        "\n",
        "\n",
        "\n",
        "\n",
        "\n"
      ],
      "metadata": {
        "id": "T1O0B0Fu4_Ff"
      }
    },
    {
      "cell_type": "code",
      "source": [
        "#Cantidad Estudiantes por genero\n",
        "cantidad_estudiantes = df_grouped.size()\n",
        "print(cantidad_estudiantes)"
      ],
      "metadata": {
        "colab": {
          "base_uri": "https://localhost:8080/"
        },
        "id": "_BxuBOKG5LU5",
        "outputId": "3bb379ea-6515-4426-fcc7-303936cfa788"
      },
      "execution_count": 2,
      "outputs": [
        {
          "output_type": "stream",
          "name": "stdout",
          "text": [
            "Género\n",
            "Hombre    4\n",
            "Mujer     3\n",
            "dtype: int64\n"
          ]
        }
      ]
    },
    {
      "cell_type": "code",
      "source": [
        "# resumen por la calificación promedio de forma descendente\n",
        "resumen = resumen.sort_values(by='Calificación Promedio', ascending=False)\n",
        "print(resumen)"
      ],
      "metadata": {
        "colab": {
          "base_uri": "https://localhost:8080/"
        },
        "id": "qqxAuKcu5j_Z",
        "outputId": "f3e7ec95-7cc0-45a4-eaee-9cc425fbab77"
      },
      "execution_count": 3,
      "outputs": [
        {
          "output_type": "stream",
          "name": "stdout",
          "text": [
            "        Edad Promedio  Calificación Promedio  Calificación Máxima\n",
            "Género                                                           \n",
            "Mujer       17.666667               8.766667                  9.8\n",
            "Hombre      19.000000               7.625000                  9.2\n"
          ]
        }
      ]
    },
    {
      "cell_type": "code",
      "source": [
        "#agregar una nueva columna al DataFrame con la categoría de edad (por ejemplo, \"Joven\" para estudiantes menores de 19 años y \"Adulto\" para estudiantes mayores o iguales a 19 años)\n",
        "df['Categoría Edad'] = ['Joven' if edad < 19 else 'Adulto' for edad in df['Edad']]\n",
        "print(df)"
      ],
      "metadata": {
        "colab": {
          "base_uri": "https://localhost:8080/"
        },
        "id": "PU0cmIz55vX4",
        "outputId": "bfc5f6a0-bae9-419f-ff2c-7dcc2db1dc16"
      },
      "execution_count": 4,
      "outputs": [
        {
          "output_type": "stream",
          "name": "stdout",
          "text": [
            "   Nombre  Edad  Género  Calificación Categoría Edad\n",
            "0     Ana    18   Mujer           8.5          Joven\n",
            "1    Juan    19  Hombre           7.0         Adulto\n",
            "2   Pedro    18  Hombre           9.2          Joven\n",
            "3   Sofía    17   Mujer           9.8          Joven\n",
            "4  Carlos    20  Hombre           6.5         Adulto\n",
            "5   María    18   Mujer           8.0          Joven\n",
            "6    Luis    19  Hombre           7.8         Adulto\n"
          ]
        }
      ]
    }
  ]
}