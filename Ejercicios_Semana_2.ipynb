{
  "nbformat": 4,
  "nbformat_minor": 0,
  "metadata": {
    "colab": {
      "provenance": [],
      "authorship_tag": "ABX9TyMlrWMCaoCodZn3zWECj2mn",
      "include_colab_link": true
    },
    "kernelspec": {
      "name": "python3",
      "display_name": "Python 3"
    },
    "language_info": {
      "name": "python"
    }
  },
  "cells": [
    {
      "cell_type": "markdown",
      "metadata": {
        "id": "view-in-github",
        "colab_type": "text"
      },
      "source": [
        "<a href=\"https://colab.research.google.com/github/alexhzjz/Python-Ejercicios/blob/main/Ejercicios_Semana_2.ipynb\" target=\"_parent\"><img src=\"https://colab.research.google.com/assets/colab-badge.svg\" alt=\"Open In Colab\"/></a>"
      ]
    },
    {
      "cell_type": "markdown",
      "source": [
        "**Ejercicio 1:**\n",
        "\n",
        "Escribe un programa que pida al usuario su nombre y apellido, y luego los imprima juntos en un mensaje de saludo."
      ],
      "metadata": {
        "id": "bou-Sr_5G2EO"
      }
    },
    {
      "cell_type": "code",
      "source": [
        "nombre = input(\"Por favor, ingresa tu nombre: \")\n",
        "apellido = input(\"Por favor, ingresa tu apellido: \")\n",
        "\n",
        "print(f\"Hola, {nombre} {apellido}! Bienvenido/a.\")"
      ],
      "metadata": {
        "colab": {
          "base_uri": "https://localhost:8080/"
        },
        "id": "GGq3nxruG7Mh",
        "outputId": "61c92ebc-7a93-49b6-d39a-cf18976979e6"
      },
      "execution_count": 1,
      "outputs": [
        {
          "output_type": "stream",
          "name": "stdout",
          "text": [
            "Por favor, ingresa tu nombre: alex\n",
            "Por favor, ingresa tu apellido: osorio\n",
            "Hola, alex osorio! Bienvenido/a.\n"
          ]
        }
      ]
    },
    {
      "cell_type": "markdown",
      "source": [
        "**Ejercicio 2:**\n",
        "\n",
        "Crea una variable llamada precio con el valor 100. Calcula el precio con un descuento del 15% y muestra el precio final."
      ],
      "metadata": {
        "id": "prq2WIkcHE82"
      }
    },
    {
      "cell_type": "code",
      "source": [
        "precio = 100\n",
        "descuento = precio * 0.15\n",
        "precio_final = precio - descuento\n",
        "\n",
        "print(f\"El precio final con un descuento del 15% es: {precio_final}\")\n"
      ],
      "metadata": {
        "colab": {
          "base_uri": "https://localhost:8080/"
        },
        "id": "k8T8XW9uH_XW",
        "outputId": "1be938da-29fd-443f-b973-01a66a9c92c0"
      },
      "execution_count": 10,
      "outputs": [
        {
          "output_type": "stream",
          "name": "stdout",
          "text": [
            "El precio final con un descuento del 15% es: 85.0\n"
          ]
        }
      ]
    },
    {
      "cell_type": "markdown",
      "source": [
        "**Ejercicio 3:**\n",
        "\n",
        "Escribe un programa que pida al usuario su edad y luego determine si es mayor o menor de edad."
      ],
      "metadata": {
        "id": "uazOf72DIKDv"
      }
    },
    {
      "cell_type": "code",
      "source": [
        "edad = int(input(\"Por favor, ingresa tu edad: \"))\n",
        "if edad >= 18:\n",
        "    print(\"Eres mayor de edad\")\n",
        "else:\n",
        "    print(\"Eres menor de edad\")"
      ],
      "metadata": {
        "colab": {
          "base_uri": "https://localhost:8080/"
        },
        "id": "EiV8aKf1IMQN",
        "outputId": "478afe4d-4210-4496-9d92-cd18960fd1e5"
      },
      "execution_count": 2,
      "outputs": [
        {
          "output_type": "stream",
          "name": "stdout",
          "text": [
            "Por favor, ingresa tu edad: 52\n",
            "Eres mayor de edad\n"
          ]
        }
      ]
    },
    {
      "cell_type": "markdown",
      "source": [
        "**Ejercicio 4:**\n",
        "\n",
        "Crea un programa que pida al usuario un número y determine si es par o impar."
      ],
      "metadata": {
        "id": "bj_1us-YIY9i"
      }
    },
    {
      "cell_type": "code",
      "source": [
        "numero = int(input(\"Por favor, ingresa un número: \"))\n",
        "\n",
        "if numero % 2 == 0:\n",
        "    print(f\"El número {numero} es par.\")\n",
        "else:\n",
        "    print(f\"El número {numero} es impar.\")"
      ],
      "metadata": {
        "colab": {
          "base_uri": "https://localhost:8080/"
        },
        "id": "zHdQr6t2IaIY",
        "outputId": "8e5e1bb5-9385-415e-9a48-9d87e5a14d09"
      },
      "execution_count": 3,
      "outputs": [
        {
          "output_type": "stream",
          "name": "stdout",
          "text": [
            "Por favor, ingresa un número: 85\n",
            "El número 85 es impar.\n"
          ]
        }
      ]
    },
    {
      "cell_type": "markdown",
      "source": [
        "**Ejercicio 5:**\n",
        "\n",
        "Escribe un programa que pida al usuario dos números y luego calcule su suma, resta, multiplicación y división."
      ],
      "metadata": {
        "id": "ioAbcFUKIjZx"
      }
    },
    {
      "cell_type": "code",
      "source": [
        "# Solicito dos números al usuario\n",
        "numero1 = float(input(\"Por favor, ingresa el primer número: \"))\n",
        "numero2 = float(input(\"Por favor, ingresa el segundo número: \"))\n",
        "\n",
        "# Aqui calculo la suma\n",
        "suma = numero1 + numero2\n",
        "\n",
        "# Aqui calculo la resta\n",
        "resta = numero1 - numero2\n",
        "\n",
        "# Aqui la multiplicación\n",
        "multiplicacion = numero1 * numero2\n",
        "\n",
        "# Aqui la división\n",
        "if numero2 != 0:\n",
        "    division = numero1 / numero2\n",
        "else:\n",
        "    division = \"Indefinida (no se puede dividir por cero)\"\n",
        "\n",
        "# Resultados\n",
        "print(f\"La suma de {numero1} y {numero2} es: {suma}\")\n",
        "print(f\"La resta de {numero1} y {numero2} es: {resta}\")\n",
        "print(f\"La multiplicación de {numero1} y {numero2} es: {multiplicacion}\")\n",
        "print(f\"La división de {numero1} y {numero2} es: {division}\")\n"
      ],
      "metadata": {
        "colab": {
          "base_uri": "https://localhost:8080/"
        },
        "id": "cQTPlRRoIkQo",
        "outputId": "5b6325d7-6ba8-43d4-ce40-d1634cc2144c"
      },
      "execution_count": 4,
      "outputs": [
        {
          "output_type": "stream",
          "name": "stdout",
          "text": [
            "Por favor, ingresa el primer número: 520\n",
            "Por favor, ingresa el segundo número: 4\n",
            "La suma de 520.0 y 4.0 es: 524.0\n",
            "La resta de 520.0 y 4.0 es: 516.0\n",
            "La multiplicación de 520.0 y 4.0 es: 2080.0\n",
            "La división de 520.0 y 4.0 es: 130.0\n"
          ]
        }
      ]
    },
    {
      "cell_type": "markdown",
      "source": [
        "**Ejercicio 6:**\n",
        "\n",
        "Crea un programa que pida al usuario su calificación y luego imprima el mensaje \"Aprobado\" si la calificación es mayor o igual a 70, o \"Reprobado\" si la calificación es menor que 70."
      ],
      "metadata": {
        "id": "NjRnexMGI5x9"
      }
    },
    {
      "cell_type": "code",
      "source": [
        "Nota = float(input(\"Por favor, ingresa tu calificación: \"))\n",
        "\n",
        "if Nota >= 70:\n",
        "    print(\"Aprobó\")\n",
        "else:\n",
        "    print(\"Reprobó\")\n"
      ],
      "metadata": {
        "colab": {
          "base_uri": "https://localhost:8080/"
        },
        "id": "xkQB9UldJCH5",
        "outputId": "4466ed46-4e98-4f06-98e3-7df3fde535e5"
      },
      "execution_count": 5,
      "outputs": [
        {
          "output_type": "stream",
          "name": "stdout",
          "text": [
            "Por favor, ingresa tu calificación: 50\n",
            "Reprobó\n"
          ]
        }
      ]
    },
    {
      "cell_type": "markdown",
      "source": [
        "**Ejercicio 7:**\n",
        "\n",
        "Escribe un programa que pida al usuario dos números y luego determine cuál es el mayor."
      ],
      "metadata": {
        "id": "phVuu4aLJNnt"
      }
    },
    {
      "cell_type": "code",
      "source": [
        "numero1 = float(input(\"Por favor, ingresa el primer número: \"))\n",
        "numero2 = float(input(\"Por favor, ingresa el segundo número: \"))\n",
        "\n",
        "if numero1 > numero2:\n",
        "    print(f\"El número mayor es: {numero1}\")\n",
        "elif numero2 > numero1:\n",
        "    print(f\"El número mayor es: {numero2}\")\n",
        "else:\n",
        "    print(\"Ambos números son iguales.\")\n"
      ],
      "metadata": {
        "colab": {
          "base_uri": "https://localhost:8080/"
        },
        "id": "KR208pA-JOmh",
        "outputId": "ef72ca46-a5ca-4d80-bc2e-b0a8c14420ff"
      },
      "execution_count": 6,
      "outputs": [
        {
          "output_type": "stream",
          "name": "stdout",
          "text": [
            "Por favor, ingresa el primer número: 52\n",
            "Por favor, ingresa el segundo número: 74\n",
            "El número mayor es: 74.0\n"
          ]
        }
      ]
    },
    {
      "cell_type": "markdown",
      "source": [
        "**Ejercicio 8:**\n",
        "\n",
        "Crea un programa que pida al usuario su nombre y luego imprima un mensaje de bienvenida con su nombre."
      ],
      "metadata": {
        "id": "zAmyJok-JcpB"
      }
    },
    {
      "cell_type": "code",
      "source": [
        "nombre = input(\"Por favor, ingresa tu nombre: \")\n",
        "print(f\"¡Bienvenido/a, {nombre}!\")\n"
      ],
      "metadata": {
        "id": "hCSobx2yJbFI"
      },
      "execution_count": null,
      "outputs": []
    },
    {
      "cell_type": "markdown",
      "source": [
        "**Ejercicio 9:**\n",
        "\n",
        "Escribe un programa que pida al usuario un número y luego imprima la tabla de multiplicar de ese número hasta el 10."
      ],
      "metadata": {
        "id": "tMS-beMOJdwn"
      }
    },
    {
      "cell_type": "code",
      "source": [
        "# Solicito un número al usuario\n",
        "numero = int(input(\"Por favor, ingresa un número: \"))\n",
        "\n",
        "# Imprimo la tabla de multiplicar del número hasta el 10\n",
        "print(f\"Tabla de multiplicar del {numero}:\")\n",
        "for i in range(1, 11):\n",
        "    print(f\"{numero} x {i} = {numero * i}\")\n"
      ],
      "metadata": {
        "colab": {
          "base_uri": "https://localhost:8080/"
        },
        "id": "WEwLSb5aJrBr",
        "outputId": "e4f0559a-0723-466a-dc1f-2d54efee9f82"
      },
      "execution_count": 7,
      "outputs": [
        {
          "output_type": "stream",
          "name": "stdout",
          "text": [
            "Por favor, ingresa un número: 5\n",
            "Tabla de multiplicar del 5:\n",
            "5 x 1 = 5\n",
            "5 x 2 = 10\n",
            "5 x 3 = 15\n",
            "5 x 4 = 20\n",
            "5 x 5 = 25\n",
            "5 x 6 = 30\n",
            "5 x 7 = 35\n",
            "5 x 8 = 40\n",
            "5 x 9 = 45\n",
            "5 x 10 = 50\n"
          ]
        }
      ]
    },
    {
      "cell_type": "markdown",
      "source": [
        "**Ejercicio 10:**\n",
        "\n",
        "Crea un programa que pida al usuario dos números y luego calcule su promedio."
      ],
      "metadata": {
        "id": "k9ZucdB-J57G"
      }
    },
    {
      "cell_type": "code",
      "source": [
        "numero1 = float(input(\"Ingresa el primer número: \"))\n",
        "numero2 = float(input(\"Ingresa el segundo número: \"))\n",
        "promedio = (numero1 + numero2) / 2\n",
        "\n",
        "print(\"El promedio de los dos números es:\", promedio)\n"
      ],
      "metadata": {
        "colab": {
          "base_uri": "https://localhost:8080/"
        },
        "id": "vPvPS2eSJ7Jp",
        "outputId": "3711caff-9a5b-4c3c-dec0-3f80e4572917"
      },
      "execution_count": 8,
      "outputs": [
        {
          "output_type": "stream",
          "name": "stdout",
          "text": [
            "Ingresa el primer número: 45\n",
            "Ingresa el segundo número: 52\n",
            "El promedio de los dos números es: 48.5\n"
          ]
        }
      ]
    }
  ]
}